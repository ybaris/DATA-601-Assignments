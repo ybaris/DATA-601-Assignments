{
  "nbformat": 4,
  "nbformat_minor": 0,
  "metadata": {
    "colab": {
      "name": "Getting_Fake_Data_Assignment_03.ipynb",
      "provenance": [],
      "collapsed_sections": [],
      "include_colab_link": true
    },
    "kernelspec": {
      "name": "python3",
      "display_name": "Python 3"
    }
  },
  "cells": [
    {
      "cell_type": "markdown",
      "metadata": {
        "id": "view-in-github",
        "colab_type": "text"
      },
      "source": [
        "<a href=\"https://colab.research.google.com/github/ybaris/DATA-601-Assignments/blob/master/Getting_Fake_Data_Assignment_03.ipynb\" target=\"_parent\"><img src=\"https://colab.research.google.com/assets/colab-badge.svg\" alt=\"Open In Colab\"/></a>"
      ]
    },
    {
      "cell_type": "markdown",
      "metadata": {
        "id": "2q93DpvFlpSY",
        "colab_type": "text"
      },
      "source": [
        "Write a Python notebook that generates a file containing the following data:​ ​\n",
        "\n",
        "- Email addresses​. Must have an \"@\"\n",
        "- Phone numbers​\n",
        "- Home Address​\n",
        "- Person's name​\n",
        "- Year born. Use realistic values.​\n",
        "- Number of kids. Use realistic values.​\n",
        "- Categorical variable: rent or own?​\n",
        "- Annual income. Optional challenge: Use a non-uniform distribution​\n",
        "- Number of speeding tickets in past year. Optional challenge: Use a non-uniform distribution​\n",
        "\n",
        "The user of your notebook should be able to specify how many entities are to be generated.​ ​\n",
        "\n",
        "​Do not include the .csv output file in your submission -- the file should be generated dynamically.\n",
        "\n",
        "Order of columns in CSV is not relevant. ​"
      ]
    },
    {
      "cell_type": "code",
      "metadata": {
        "id": "kCcJlt_Plftt",
        "colab_type": "code",
        "colab": {
          "base_uri": "https://localhost:8080/",
          "height": 132
        },
        "outputId": "38da41df-ab27-4f5e-adbd-95d7de33da9c"
      },
      "source": [
        "# installation of faker to get random data\n",
        "pip install faker\n"
      ],
      "execution_count": 79,
      "outputs": [
        {
          "output_type": "error",
          "ename": "SyntaxError",
          "evalue": "ignored",
          "traceback": [
            "\u001b[0;36m  File \u001b[0;32m\"<ipython-input-79-69a083b95d96>\"\u001b[0;36m, line \u001b[0;32m2\u001b[0m\n\u001b[0;31m    pip install faker\u001b[0m\n\u001b[0m              ^\u001b[0m\n\u001b[0;31mSyntaxError\u001b[0m\u001b[0;31m:\u001b[0m invalid syntax\n"
          ]
        }
      ]
    },
    {
      "cell_type": "code",
      "metadata": {
        "id": "9TRMknlBpGnl",
        "colab_type": "code",
        "colab": {
          "base_uri": "https://localhost:8080/",
          "height": 225
        },
        "outputId": "11bf0d90-c95c-4563-a0ae-68e4cc67cc00"
      },
      "source": [
        "# trials\n",
        "from faker import Faker \n",
        "import pandas as pd \n",
        "\n",
        "faker = Faker()\n",
        "df = pd.DataFrame()\n",
        "\n",
        "for i in range(2):\n",
        "    df = df.append(faker.profile(), ignore_index=True)\n",
        "print(faker.profile([\"address\"]))\n",
        "df"
      ],
      "execution_count": 80,
      "outputs": [
        {
          "output_type": "stream",
          "text": [
            "{'address': 'PSC 0665, Box 3182\\nAPO AE 46905'}\n"
          ],
          "name": "stdout"
        },
        {
          "output_type": "execute_result",
          "data": {
            "text/html": [
              "<div>\n",
              "<style scoped>\n",
              "    .dataframe tbody tr th:only-of-type {\n",
              "        vertical-align: middle;\n",
              "    }\n",
              "\n",
              "    .dataframe tbody tr th {\n",
              "        vertical-align: top;\n",
              "    }\n",
              "\n",
              "    .dataframe thead th {\n",
              "        text-align: right;\n",
              "    }\n",
              "</style>\n",
              "<table border=\"1\" class=\"dataframe\">\n",
              "  <thead>\n",
              "    <tr style=\"text-align: right;\">\n",
              "      <th></th>\n",
              "      <th>address</th>\n",
              "      <th>birthdate</th>\n",
              "      <th>blood_group</th>\n",
              "      <th>company</th>\n",
              "      <th>current_location</th>\n",
              "      <th>job</th>\n",
              "      <th>mail</th>\n",
              "      <th>name</th>\n",
              "      <th>residence</th>\n",
              "      <th>sex</th>\n",
              "      <th>ssn</th>\n",
              "      <th>username</th>\n",
              "      <th>website</th>\n",
              "    </tr>\n",
              "  </thead>\n",
              "  <tbody>\n",
              "    <tr>\n",
              "      <th>0</th>\n",
              "      <td>PSC 9157, Box 2944\\nAPO AA 93324</td>\n",
              "      <td>1953-12-23</td>\n",
              "      <td>AB-</td>\n",
              "      <td>Williams, Bauer and Walsh</td>\n",
              "      <td>(45.3815315, 15.719438)</td>\n",
              "      <td>Clinical research associate</td>\n",
              "      <td>davistamara@hotmail.com</td>\n",
              "      <td>David Barnett</td>\n",
              "      <td>25881 Allen Causeway\\nGarcialand, AZ 20233</td>\n",
              "      <td>M</td>\n",
              "      <td>495-64-9773</td>\n",
              "      <td>garciashannon</td>\n",
              "      <td>[http://www.allen.net/, http://andersen-bradle...</td>\n",
              "    </tr>\n",
              "    <tr>\n",
              "      <th>1</th>\n",
              "      <td>001 Denise Ranch\\nEast Karenland, MI 22053</td>\n",
              "      <td>1908-08-18</td>\n",
              "      <td>O+</td>\n",
              "      <td>Jones, Marsh and Peters</td>\n",
              "      <td>(-75.2521675, 144.911107)</td>\n",
              "      <td>Surveyor, building</td>\n",
              "      <td>mcdonaldheather@hotmail.com</td>\n",
              "      <td>Samantha King</td>\n",
              "      <td>845 Johnson Island Apt. 392\\nLake Linda, KS 70741</td>\n",
              "      <td>F</td>\n",
              "      <td>304-16-2169</td>\n",
              "      <td>elizabeth46</td>\n",
              "      <td>[https://www.bridges-huynh.info/, https://thom...</td>\n",
              "    </tr>\n",
              "  </tbody>\n",
              "</table>\n",
              "</div>"
            ],
            "text/plain": [
              "                                      address  ...                                            website\n",
              "0            PSC 9157, Box 2944\\nAPO AA 93324  ...  [http://www.allen.net/, http://andersen-bradle...\n",
              "1  001 Denise Ranch\\nEast Karenland, MI 22053  ...  [https://www.bridges-huynh.info/, https://thom...\n",
              "\n",
              "[2 rows x 13 columns]"
            ]
          },
          "metadata": {
            "tags": []
          },
          "execution_count": 80
        }
      ]
    },
    {
      "cell_type": "markdown",
      "metadata": {
        "id": "oj8jxkL3Q7Z7",
        "colab_type": "text"
      },
      "source": [
        "## Solution for the assignment"
      ]
    },
    {
      "cell_type": "code",
      "metadata": {
        "id": "9jBwHU002Jb9",
        "colab_type": "code",
        "colab": {}
      },
      "source": [
        "import random \n",
        "\n",
        "address_list = []\n",
        "mail_list = []\n",
        "name_list = []\n",
        "birthdate_list = []\n",
        "phone_list = []\n",
        "child_list = []\n",
        "house_list = []\n",
        "income_list = []\n",
        "speed_ticket_list = []\n",
        "\n",
        "# number of user data can be changed here.\n",
        "for i in range(0,100): \n",
        "    address_list.append(faker.profile([\"address\"])[\"address\"])\n",
        "    mail_list.append(faker.profile([\"mail\"])[\"mail\"])\n",
        "    name_list.append(faker.profile([\"name\"])[\"name\"])\n",
        "    birthdate_list.append(faker.profile([\"birthdate\"])[\"birthdate\"])\n",
        "    phone_list.append(faker.phone_number())\n",
        "    child_list.append(random.randint(0,15))\n",
        "    house_list.append(faker.random_element(elements=('rent', 'own')))\n",
        "    income_list.append(random.randint(40000, 500000))\n",
        "    speed_ticket_list.append(random.randint(0, 10))\n",
        "\n",
        "  "
      ],
      "execution_count": 81,
      "outputs": []
    },
    {
      "cell_type": "code",
      "metadata": {
        "id": "yO33SLOy4Ksh",
        "colab_type": "code",
        "colab": {}
      },
      "source": [
        "a = pd.DataFrame()"
      ],
      "execution_count": 82,
      "outputs": []
    },
    {
      "cell_type": "code",
      "metadata": {
        "id": "APQ3sOVd4hdz",
        "colab_type": "code",
        "colab": {}
      },
      "source": [
        "a[\"address\"] = address_list\n",
        "a[\"mail\"] = mail_list\n",
        "a[\"name\"] = name_list\n",
        "a[\"birthdate\"] = birthdate_list\n",
        "a[\"phone\"] = phone_list\n",
        "a[\"number of children\"] = child_list\n",
        "a[\"status of the house\"] = house_list\n",
        "a[\"income($)\"] = income_list\n",
        "a[\"number of speeding tickets in the past year\"] = speed_ticket_list"
      ],
      "execution_count": 83,
      "outputs": []
    },
    {
      "cell_type": "code",
      "metadata": {
        "id": "uC5w9zQB4jS6",
        "colab_type": "code",
        "colab": {
          "base_uri": "https://localhost:8080/",
          "height": 590
        },
        "outputId": "019c5a6a-d276-46df-ef42-93dcb4cea337"
      },
      "source": [
        "a"
      ],
      "execution_count": 84,
      "outputs": [
        {
          "output_type": "execute_result",
          "data": {
            "text/html": [
              "<div>\n",
              "<style scoped>\n",
              "    .dataframe tbody tr th:only-of-type {\n",
              "        vertical-align: middle;\n",
              "    }\n",
              "\n",
              "    .dataframe tbody tr th {\n",
              "        vertical-align: top;\n",
              "    }\n",
              "\n",
              "    .dataframe thead th {\n",
              "        text-align: right;\n",
              "    }\n",
              "</style>\n",
              "<table border=\"1\" class=\"dataframe\">\n",
              "  <thead>\n",
              "    <tr style=\"text-align: right;\">\n",
              "      <th></th>\n",
              "      <th>address</th>\n",
              "      <th>mail</th>\n",
              "      <th>name</th>\n",
              "      <th>birthdate</th>\n",
              "      <th>phone</th>\n",
              "      <th>number of children</th>\n",
              "      <th>status of the house</th>\n",
              "      <th>income($)</th>\n",
              "      <th>number of speeding tickets in the past year</th>\n",
              "    </tr>\n",
              "  </thead>\n",
              "  <tbody>\n",
              "    <tr>\n",
              "      <th>0</th>\n",
              "      <td>Unit 8084 Box 1647\\nDPO AE 54492</td>\n",
              "      <td>natashamiller@gmail.com</td>\n",
              "      <td>Johnny Martin</td>\n",
              "      <td>1945-01-24</td>\n",
              "      <td>001-324-208-2971</td>\n",
              "      <td>5</td>\n",
              "      <td>rent</td>\n",
              "      <td>414837</td>\n",
              "      <td>7</td>\n",
              "    </tr>\n",
              "    <tr>\n",
              "      <th>1</th>\n",
              "      <td>297 Melissa Branch\\nPort Cassidymouth, MD 05322</td>\n",
              "      <td>johnathanpruitt@yahoo.com</td>\n",
              "      <td>Paul Lewis</td>\n",
              "      <td>1993-12-18</td>\n",
              "      <td>(461)501-2937</td>\n",
              "      <td>2</td>\n",
              "      <td>rent</td>\n",
              "      <td>93166</td>\n",
              "      <td>9</td>\n",
              "    </tr>\n",
              "    <tr>\n",
              "      <th>2</th>\n",
              "      <td>613 Griffith Run\\nSouth Jessica, MA 98785</td>\n",
              "      <td>stacyromero@yahoo.com</td>\n",
              "      <td>Jason Evans</td>\n",
              "      <td>1908-08-19</td>\n",
              "      <td>001-957-029-4065x1792</td>\n",
              "      <td>0</td>\n",
              "      <td>rent</td>\n",
              "      <td>228498</td>\n",
              "      <td>9</td>\n",
              "    </tr>\n",
              "    <tr>\n",
              "      <th>3</th>\n",
              "      <td>USNS Bryant\\nFPO AP 42233</td>\n",
              "      <td>stephenrivas@yahoo.com</td>\n",
              "      <td>Jennifer Brewer</td>\n",
              "      <td>1973-07-10</td>\n",
              "      <td>+1-851-842-5606x60190</td>\n",
              "      <td>11</td>\n",
              "      <td>own</td>\n",
              "      <td>400598</td>\n",
              "      <td>0</td>\n",
              "    </tr>\n",
              "    <tr>\n",
              "      <th>4</th>\n",
              "      <td>25201 Nicole Springs\\nPort Andrew, HI 92716</td>\n",
              "      <td>michaelsmith@hotmail.com</td>\n",
              "      <td>Jonathan Walton</td>\n",
              "      <td>1940-10-01</td>\n",
              "      <td>(022)172-3222x15576</td>\n",
              "      <td>11</td>\n",
              "      <td>rent</td>\n",
              "      <td>159241</td>\n",
              "      <td>8</td>\n",
              "    </tr>\n",
              "    <tr>\n",
              "      <th>...</th>\n",
              "      <td>...</td>\n",
              "      <td>...</td>\n",
              "      <td>...</td>\n",
              "      <td>...</td>\n",
              "      <td>...</td>\n",
              "      <td>...</td>\n",
              "      <td>...</td>\n",
              "      <td>...</td>\n",
              "      <td>...</td>\n",
              "    </tr>\n",
              "    <tr>\n",
              "      <th>95</th>\n",
              "      <td>34427 Justin Union Suite 874\\nEast Gabriel, NC...</td>\n",
              "      <td>kelly49@hotmail.com</td>\n",
              "      <td>Andrew Wiggins</td>\n",
              "      <td>1970-06-15</td>\n",
              "      <td>089-970-8959x141</td>\n",
              "      <td>9</td>\n",
              "      <td>rent</td>\n",
              "      <td>331407</td>\n",
              "      <td>8</td>\n",
              "    </tr>\n",
              "    <tr>\n",
              "      <th>96</th>\n",
              "      <td>0221 Joseph Lights\\nNew Danafort, CT 85673</td>\n",
              "      <td>christopherpoole@yahoo.com</td>\n",
              "      <td>Adam Curry</td>\n",
              "      <td>2020-07-19</td>\n",
              "      <td>424-005-2929x02726</td>\n",
              "      <td>3</td>\n",
              "      <td>own</td>\n",
              "      <td>184674</td>\n",
              "      <td>4</td>\n",
              "    </tr>\n",
              "    <tr>\n",
              "      <th>97</th>\n",
              "      <td>3386 Price Pine Apt. 461\\nNorth Theresa, GA 23856</td>\n",
              "      <td>wnguyen@yahoo.com</td>\n",
              "      <td>Daniel Bishop</td>\n",
              "      <td>1977-06-16</td>\n",
              "      <td>176-738-0975x6754</td>\n",
              "      <td>11</td>\n",
              "      <td>own</td>\n",
              "      <td>276783</td>\n",
              "      <td>1</td>\n",
              "    </tr>\n",
              "    <tr>\n",
              "      <th>98</th>\n",
              "      <td>4927 Carolyn Islands Apt. 134\\nNew Christopher...</td>\n",
              "      <td>rjones@hotmail.com</td>\n",
              "      <td>Aaron Hendricks</td>\n",
              "      <td>2015-05-21</td>\n",
              "      <td>125.969.3067</td>\n",
              "      <td>10</td>\n",
              "      <td>own</td>\n",
              "      <td>262415</td>\n",
              "      <td>5</td>\n",
              "    </tr>\n",
              "    <tr>\n",
              "      <th>99</th>\n",
              "      <td>390 Palmer Plains Apt. 554\\nWilliamstown, IN 9...</td>\n",
              "      <td>rachelherrera@yahoo.com</td>\n",
              "      <td>Ariel Carroll</td>\n",
              "      <td>2003-02-21</td>\n",
              "      <td>001-175-020-0020</td>\n",
              "      <td>10</td>\n",
              "      <td>own</td>\n",
              "      <td>137992</td>\n",
              "      <td>6</td>\n",
              "    </tr>\n",
              "  </tbody>\n",
              "</table>\n",
              "<p>100 rows × 9 columns</p>\n",
              "</div>"
            ],
            "text/plain": [
              "                                              address  ... number of speeding tickets in the past year\n",
              "0                    Unit 8084 Box 1647\\nDPO AE 54492  ...                                           7\n",
              "1     297 Melissa Branch\\nPort Cassidymouth, MD 05322  ...                                           9\n",
              "2           613 Griffith Run\\nSouth Jessica, MA 98785  ...                                           9\n",
              "3                           USNS Bryant\\nFPO AP 42233  ...                                           0\n",
              "4         25201 Nicole Springs\\nPort Andrew, HI 92716  ...                                           8\n",
              "..                                                ...  ...                                         ...\n",
              "95  34427 Justin Union Suite 874\\nEast Gabriel, NC...  ...                                           8\n",
              "96         0221 Joseph Lights\\nNew Danafort, CT 85673  ...                                           4\n",
              "97  3386 Price Pine Apt. 461\\nNorth Theresa, GA 23856  ...                                           1\n",
              "98  4927 Carolyn Islands Apt. 134\\nNew Christopher...  ...                                           5\n",
              "99  390 Palmer Plains Apt. 554\\nWilliamstown, IN 9...  ...                                           6\n",
              "\n",
              "[100 rows x 9 columns]"
            ]
          },
          "metadata": {
            "tags": []
          },
          "execution_count": 84
        }
      ]
    },
    {
      "cell_type": "markdown",
      "metadata": {
        "id": "-q9Y_-eD4x3p",
        "colab_type": "text"
      },
      "source": [
        "## Build up"
      ]
    },
    {
      "cell_type": "markdown",
      "metadata": {
        "id": "Lb5SfoSlIVwk",
        "colab_type": "text"
      },
      "source": [
        "### Address list"
      ]
    },
    {
      "cell_type": "code",
      "metadata": {
        "id": "RlMgIEZHs5wa",
        "colab_type": "code",
        "colab": {
          "base_uri": "https://localhost:8080/",
          "height": 70
        },
        "outputId": "0ff58a7c-2945-4a1a-d554-342f3a5b88cb"
      },
      "source": [
        "address_list = []\n",
        "\n",
        "for i in range(0,3): \n",
        "    x = faker.profile([\"address\"])\n",
        "    while x in address_list:\n",
        "        x = faker.profile([\"address\"])\n",
        "    address_list.append(x)\n",
        "\n",
        "address_list"
      ],
      "execution_count": 85,
      "outputs": [
        {
          "output_type": "execute_result",
          "data": {
            "text/plain": [
              "[{'address': '3955 Daniel Drives\\nSouth Kellybury, WA 89545'},\n",
              " {'address': '629 Wheeler Plains Apt. 739\\nKochstad, KY 08615'},\n",
              " {'address': 'Unit 7841 Box 3591\\nDPO AP 47724'}]"
            ]
          },
          "metadata": {
            "tags": []
          },
          "execution_count": 85
        }
      ]
    },
    {
      "cell_type": "markdown",
      "metadata": {
        "id": "IMx6wevbISch",
        "colab_type": "text"
      },
      "source": [
        "### email list"
      ]
    },
    {
      "cell_type": "code",
      "metadata": {
        "id": "i0dy0IiA9PAE",
        "colab_type": "code",
        "colab": {
          "base_uri": "https://localhost:8080/",
          "height": 70
        },
        "outputId": "d90061ce-de32-41f1-ec63-5e4f49acff85"
      },
      "source": [
        "mail_list = []\n",
        "\n",
        "for i in range(0,3): \n",
        "    m = faker.profile([\"mail\"])\n",
        "    while m in address_list:\n",
        "        m = faker.profile([\"mail\"])\n",
        "    mail_list.append(m)\n",
        "\n",
        "mail_list"
      ],
      "execution_count": 86,
      "outputs": [
        {
          "output_type": "execute_result",
          "data": {
            "text/plain": [
              "[{'mail': 'ydawson@hotmail.com'},\n",
              " {'mail': 'jdavis@gmail.com'},\n",
              " {'mail': 'virginia07@gmail.com'}]"
            ]
          },
          "metadata": {
            "tags": []
          },
          "execution_count": 86
        }
      ]
    },
    {
      "cell_type": "markdown",
      "metadata": {
        "id": "EZKoqEl7IQs8",
        "colab_type": "text"
      },
      "source": [
        "### Name list"
      ]
    },
    {
      "cell_type": "code",
      "metadata": {
        "id": "nbbtoJy0-HWu",
        "colab_type": "code",
        "colab": {
          "base_uri": "https://localhost:8080/",
          "height": 70
        },
        "outputId": "77e4022a-ebf3-4a8a-bae4-8ac51bc5b450"
      },
      "source": [
        "name_list = []\n",
        "\n",
        "for i in range(0,3): \n",
        "    n = faker.profile([\"name\"])\n",
        "    while n in name_list:\n",
        "        n = faker.profile([\"name\"])\n",
        "    name_list.append(n)\n",
        "\n",
        "name_list"
      ],
      "execution_count": 87,
      "outputs": [
        {
          "output_type": "execute_result",
          "data": {
            "text/plain": [
              "[{'name': 'Maureen Castaneda'},\n",
              " {'name': 'Michael Steele'},\n",
              " {'name': 'Amanda Rodriguez'}]"
            ]
          },
          "metadata": {
            "tags": []
          },
          "execution_count": 87
        }
      ]
    },
    {
      "cell_type": "markdown",
      "metadata": {
        "id": "2gcfwcAKINGs",
        "colab_type": "text"
      },
      "source": [
        "### Birthdate list"
      ]
    },
    {
      "cell_type": "code",
      "metadata": {
        "id": "QZtz29IE-dga",
        "colab_type": "code",
        "colab": {
          "base_uri": "https://localhost:8080/",
          "height": 70
        },
        "outputId": "7ecbc7f8-2cac-4256-d1a5-7d4498bf5220"
      },
      "source": [
        "birthdate_list = []\n",
        "\n",
        "for i in range(0,3): \n",
        "    b = faker.profile([\"birthdate\"])\n",
        "    while b in birthdate_list:\n",
        "        b = faker.profile([\"birthdate\"])\n",
        "    birthdate_list.append(b)\n",
        "\n",
        "birthdate_list"
      ],
      "execution_count": 88,
      "outputs": [
        {
          "output_type": "execute_result",
          "data": {
            "text/plain": [
              "[{'birthdate': datetime.date(1925, 3, 18)},\n",
              " {'birthdate': datetime.date(1925, 9, 2)},\n",
              " {'birthdate': datetime.date(1926, 6, 9)}]"
            ]
          },
          "metadata": {
            "tags": []
          },
          "execution_count": 88
        }
      ]
    },
    {
      "cell_type": "markdown",
      "metadata": {
        "id": "5n9WRFBoILIz",
        "colab_type": "text"
      },
      "source": [
        "### Phone list"
      ]
    },
    {
      "cell_type": "code",
      "metadata": {
        "id": "rvlxyJ5Ozcv_",
        "colab_type": "code",
        "colab": {
          "base_uri": "https://localhost:8080/",
          "height": 34
        },
        "outputId": "dd4b125d-0c68-4eb4-dd6e-d776d50cc574"
      },
      "source": [
        "phone_list = []\n",
        "\n",
        "for i in range(0, 3): \n",
        "    p = faker.phone_number()\n",
        "    while p in phone_list:\n",
        "        p = faker.phone_number()\n",
        "    phone_list.append(p)\n",
        "\n",
        "phone_list"
      ],
      "execution_count": 89,
      "outputs": [
        {
          "output_type": "execute_result",
          "data": {
            "text/plain": [
              "['783.666.2414', '1072867877', '0837560726']"
            ]
          },
          "metadata": {
            "tags": []
          },
          "execution_count": 89
        }
      ]
    },
    {
      "cell_type": "markdown",
      "metadata": {
        "id": "DH1lhef5IG55",
        "colab_type": "text"
      },
      "source": [
        "### Number of child list "
      ]
    },
    {
      "cell_type": "code",
      "metadata": {
        "id": "31OcszH530Aj",
        "colab_type": "code",
        "colab": {
          "base_uri": "https://localhost:8080/",
          "height": 34
        },
        "outputId": "46a52128-3ff1-4b34-ef06-bd240f53b76c"
      },
      "source": [
        "import random\n",
        "\n",
        "child_list = []\n",
        "for i in range(0,4):\n",
        "    c = random.randint(0, 15)\n",
        "    child_list.append(c)\n",
        "\n",
        "child_list"
      ],
      "execution_count": 90,
      "outputs": [
        {
          "output_type": "execute_result",
          "data": {
            "text/plain": [
              "[10, 2, 13, 6]"
            ]
          },
          "metadata": {
            "tags": []
          },
          "execution_count": 90
        }
      ]
    },
    {
      "cell_type": "markdown",
      "metadata": {
        "id": "F5s2owQtIFBA",
        "colab_type": "text"
      },
      "source": [
        "### House list"
      ]
    },
    {
      "cell_type": "code",
      "metadata": {
        "id": "k76AFoIT_P9V",
        "colab_type": "code",
        "colab": {
          "base_uri": "https://localhost:8080/",
          "height": 34
        },
        "outputId": "083f15fd-156e-46e8-8dea-e8b839aa1e7a"
      },
      "source": [
        "house_list = []\n",
        "\n",
        "for i in range(0, 4): \n",
        "    h = faker.random_element(elements=('rent', 'own'))\n",
        "    house_list.append(h)\n",
        "\n",
        "house_list"
      ],
      "execution_count": 91,
      "outputs": [
        {
          "output_type": "execute_result",
          "data": {
            "text/plain": [
              "['own', 'own', 'own', 'own']"
            ]
          },
          "metadata": {
            "tags": []
          },
          "execution_count": 91
        }
      ]
    },
    {
      "cell_type": "markdown",
      "metadata": {
        "id": "7gIaGaLRICK4",
        "colab_type": "text"
      },
      "source": [
        "### Income list"
      ]
    },
    {
      "cell_type": "code",
      "metadata": {
        "id": "gewZh5kPCPkp",
        "colab_type": "code",
        "colab": {
          "base_uri": "https://localhost:8080/",
          "height": 34
        },
        "outputId": "fb9d9771-8c09-4fd9-cd51-93c0810c325c"
      },
      "source": [
        "import random \n",
        "\n",
        "income_list = []\n",
        "for i in range(0,4):\n",
        "    a = random.randint(40000, 500000)\n",
        "    income_list.append(a)\n",
        "\n",
        "income_list\n"
      ],
      "execution_count": 92,
      "outputs": [
        {
          "output_type": "execute_result",
          "data": {
            "text/plain": [
              "[161130, 296540, 247695, 449099]"
            ]
          },
          "metadata": {
            "tags": []
          },
          "execution_count": 92
        }
      ]
    },
    {
      "cell_type": "markdown",
      "metadata": {
        "id": "upS05t8YH_b0",
        "colab_type": "text"
      },
      "source": [
        "### Speeding ticket list"
      ]
    },
    {
      "cell_type": "code",
      "metadata": {
        "id": "Yg3FcjuCEyvL",
        "colab_type": "code",
        "colab": {
          "base_uri": "https://localhost:8080/",
          "height": 34
        },
        "outputId": "9b289c99-f5b2-444f-c78f-f0dd9eea5594"
      },
      "source": [
        "import random \n",
        "\n",
        "speed_ticket_list = []\n",
        "for i in range(0,4):\n",
        "    s = random.randint(0, 10)\n",
        "    speed_ticket_list.append(s)\n",
        "\n",
        "speed_ticket_list\n"
      ],
      "execution_count": 93,
      "outputs": [
        {
          "output_type": "execute_result",
          "data": {
            "text/plain": [
              "[4, 9, 6, 10]"
            ]
          },
          "metadata": {
            "tags": []
          },
          "execution_count": 93
        }
      ]
    }
  ]
}